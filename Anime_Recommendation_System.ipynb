{
  "nbformat": 4,
  "nbformat_minor": 0,
  "metadata": {
    "colab": {
      "name": "Anime Recommendation System",
      "provenance": [],
      "collapsed_sections": []
    },
    "kernelspec": {
      "name": "python3",
      "display_name": "Python 3"
    },
    "language_info": {
      "name": "python"
    }
  },
  "cells": [
    {
      "cell_type": "code",
      "execution_count": 24,
      "metadata": {
        "id": "eUEEf2Y__cKo"
      },
      "outputs": [],
      "source": [
        "# import libraries\n",
        "\n",
        "import pandas as pd\n",
        "from sklearn.metrics.pairwise import linear_kernel\n",
        "from sklearn.feature_extraction.text import TfidfVectorizer"
      ]
    },
    {
      "cell_type": "code",
      "source": [
        "# reading data from file\n",
        "\n",
        "anime_description = pd.read_csv('Anime_data.csv', encoding='latin-1')\n",
        "anime_description.head()"
      ],
      "metadata": {
        "colab": {
          "base_uri": "https://localhost:8080/",
          "height": 687
        },
        "id": "Fc8Bn2VKAEeP",
        "outputId": "ea8a9177-bde8-4ef1-8b82-b62bd6dd56cd"
      },
      "execution_count": 25,
      "outputs": [
        {
          "output_type": "execute_result",
          "data": {
            "text/html": [
              "\n",
              "  <div id=\"df-d1a75c11-53be-497f-8118-1ef6e52c1b75\">\n",
              "    <div class=\"colab-df-container\">\n",
              "      <div>\n",
              "<style scoped>\n",
              "    .dataframe tbody tr th:only-of-type {\n",
              "        vertical-align: middle;\n",
              "    }\n",
              "\n",
              "    .dataframe tbody tr th {\n",
              "        vertical-align: top;\n",
              "    }\n",
              "\n",
              "    .dataframe thead th {\n",
              "        text-align: right;\n",
              "    }\n",
              "</style>\n",
              "<table border=\"1\" class=\"dataframe\">\n",
              "  <thead>\n",
              "    <tr style=\"text-align: right;\">\n",
              "      <th></th>\n",
              "      <th>Anime_id</th>\n",
              "      <th>Title</th>\n",
              "      <th>Genre</th>\n",
              "      <th>Synopsis</th>\n",
              "      <th>Type</th>\n",
              "      <th>Producer</th>\n",
              "      <th>Studio</th>\n",
              "      <th>Rating</th>\n",
              "      <th>ScoredBy</th>\n",
              "      <th>Popularity</th>\n",
              "      <th>Members</th>\n",
              "      <th>Episodes</th>\n",
              "      <th>Source</th>\n",
              "      <th>Aired</th>\n",
              "      <th>Link</th>\n",
              "    </tr>\n",
              "  </thead>\n",
              "  <tbody>\n",
              "    <tr>\n",
              "      <th>0</th>\n",
              "      <td>1</td>\n",
              "      <td>Cowboy Bebop</td>\n",
              "      <td>['Action', 'Adventure', 'Comedy', 'Drama', 'Sc...</td>\n",
              "      <td>In the year 2071, humanity has colonized sever...</td>\n",
              "      <td>TV</td>\n",
              "      <td>['Bandai Visual']</td>\n",
              "      <td>['Sunrise']</td>\n",
              "      <td>8.81</td>\n",
              "      <td>363889.0</td>\n",
              "      <td>39.0</td>\n",
              "      <td>704490.0</td>\n",
              "      <td>26.0</td>\n",
              "      <td>Original</td>\n",
              "      <td>Apr 3, 1998 to Apr 24, 1999</td>\n",
              "      <td>https://myanimelist.net/anime/1/Cowboy_Bebop</td>\n",
              "    </tr>\n",
              "    <tr>\n",
              "      <th>1</th>\n",
              "      <td>5</td>\n",
              "      <td>Cowboy Bebop: Tengoku no Tobira</td>\n",
              "      <td>['Action', 'Space', 'Drama', 'Mystery', 'Sci-Fi']</td>\n",
              "      <td>Another day, another bountyâsuch is the life...</td>\n",
              "      <td>Movie</td>\n",
              "      <td>['Sunrise', 'Bandai Visual']</td>\n",
              "      <td>['Bones']</td>\n",
              "      <td>8.41</td>\n",
              "      <td>111187.0</td>\n",
              "      <td>475.0</td>\n",
              "      <td>179899.0</td>\n",
              "      <td>1.0</td>\n",
              "      <td>Original</td>\n",
              "      <td>Sep 1, 2001</td>\n",
              "      <td>https://myanimelist.net/anime/5/Cowboy_Bebop__...</td>\n",
              "    </tr>\n",
              "    <tr>\n",
              "      <th>2</th>\n",
              "      <td>6</td>\n",
              "      <td>Trigun</td>\n",
              "      <td>['Action', 'Sci-Fi', 'Adventure', 'Comedy', 'D...</td>\n",
              "      <td>Vash the Stampede is the man with a $$60,000,0...</td>\n",
              "      <td>TV</td>\n",
              "      <td>['Victor Entertainment']</td>\n",
              "      <td>['Madhouse']</td>\n",
              "      <td>8.31</td>\n",
              "      <td>197451.0</td>\n",
              "      <td>158.0</td>\n",
              "      <td>372709.0</td>\n",
              "      <td>26.0</td>\n",
              "      <td>Manga</td>\n",
              "      <td>Apr 1, 1998 to Sep 30, 1998</td>\n",
              "      <td>https://myanimelist.net/anime/6/Trigun</td>\n",
              "    </tr>\n",
              "    <tr>\n",
              "      <th>3</th>\n",
              "      <td>7</td>\n",
              "      <td>Witch Hunter Robin</td>\n",
              "      <td>['Action', 'Magic', 'Police', 'Supernatural', ...</td>\n",
              "      <td>Witches are individuals with special powers li...</td>\n",
              "      <td>TV</td>\n",
              "      <td>['Bandai Visual']</td>\n",
              "      <td>['Sunrise']</td>\n",
              "      <td>7.34</td>\n",
              "      <td>31875.0</td>\n",
              "      <td>1278.0</td>\n",
              "      <td>74889.0</td>\n",
              "      <td>26.0</td>\n",
              "      <td>Original</td>\n",
              "      <td>Jul 2, 2002 to Dec 24, 2002</td>\n",
              "      <td>https://myanimelist.net/anime/7/Witch_Hunter_R...</td>\n",
              "    </tr>\n",
              "    <tr>\n",
              "      <th>4</th>\n",
              "      <td>8</td>\n",
              "      <td>Bouken Ou Beet</td>\n",
              "      <td>['Adventure', 'Fantasy', 'Shounen', 'Supernatu...</td>\n",
              "      <td>It is the dark century and the people are suff...</td>\n",
              "      <td>TV</td>\n",
              "      <td>NaN</td>\n",
              "      <td>['Toei Animation']</td>\n",
              "      <td>7.04</td>\n",
              "      <td>4757.0</td>\n",
              "      <td>3968.0</td>\n",
              "      <td>11247.0</td>\n",
              "      <td>52.0</td>\n",
              "      <td>Manga</td>\n",
              "      <td>Sep 30, 2004 to Sep 29, 2005</td>\n",
              "      <td>https://myanimelist.net/anime/8/Bouken_Ou_Beet</td>\n",
              "    </tr>\n",
              "  </tbody>\n",
              "</table>\n",
              "</div>\n",
              "      <button class=\"colab-df-convert\" onclick=\"convertToInteractive('df-d1a75c11-53be-497f-8118-1ef6e52c1b75')\"\n",
              "              title=\"Convert this dataframe to an interactive table.\"\n",
              "              style=\"display:none;\">\n",
              "        \n",
              "  <svg xmlns=\"http://www.w3.org/2000/svg\" height=\"24px\"viewBox=\"0 0 24 24\"\n",
              "       width=\"24px\">\n",
              "    <path d=\"M0 0h24v24H0V0z\" fill=\"none\"/>\n",
              "    <path d=\"M18.56 5.44l.94 2.06.94-2.06 2.06-.94-2.06-.94-.94-2.06-.94 2.06-2.06.94zm-11 1L8.5 8.5l.94-2.06 2.06-.94-2.06-.94L8.5 2.5l-.94 2.06-2.06.94zm10 10l.94 2.06.94-2.06 2.06-.94-2.06-.94-.94-2.06-.94 2.06-2.06.94z\"/><path d=\"M17.41 7.96l-1.37-1.37c-.4-.4-.92-.59-1.43-.59-.52 0-1.04.2-1.43.59L10.3 9.45l-7.72 7.72c-.78.78-.78 2.05 0 2.83L4 21.41c.39.39.9.59 1.41.59.51 0 1.02-.2 1.41-.59l7.78-7.78 2.81-2.81c.8-.78.8-2.07 0-2.86zM5.41 20L4 18.59l7.72-7.72 1.47 1.35L5.41 20z\"/>\n",
              "  </svg>\n",
              "      </button>\n",
              "      \n",
              "  <style>\n",
              "    .colab-df-container {\n",
              "      display:flex;\n",
              "      flex-wrap:wrap;\n",
              "      gap: 12px;\n",
              "    }\n",
              "\n",
              "    .colab-df-convert {\n",
              "      background-color: #E8F0FE;\n",
              "      border: none;\n",
              "      border-radius: 50%;\n",
              "      cursor: pointer;\n",
              "      display: none;\n",
              "      fill: #1967D2;\n",
              "      height: 32px;\n",
              "      padding: 0 0 0 0;\n",
              "      width: 32px;\n",
              "    }\n",
              "\n",
              "    .colab-df-convert:hover {\n",
              "      background-color: #E2EBFA;\n",
              "      box-shadow: 0px 1px 2px rgba(60, 64, 67, 0.3), 0px 1px 3px 1px rgba(60, 64, 67, 0.15);\n",
              "      fill: #174EA6;\n",
              "    }\n",
              "\n",
              "    [theme=dark] .colab-df-convert {\n",
              "      background-color: #3B4455;\n",
              "      fill: #D2E3FC;\n",
              "    }\n",
              "\n",
              "    [theme=dark] .colab-df-convert:hover {\n",
              "      background-color: #434B5C;\n",
              "      box-shadow: 0px 1px 3px 1px rgba(0, 0, 0, 0.15);\n",
              "      filter: drop-shadow(0px 1px 2px rgba(0, 0, 0, 0.3));\n",
              "      fill: #FFFFFF;\n",
              "    }\n",
              "  </style>\n",
              "\n",
              "      <script>\n",
              "        const buttonEl =\n",
              "          document.querySelector('#df-d1a75c11-53be-497f-8118-1ef6e52c1b75 button.colab-df-convert');\n",
              "        buttonEl.style.display =\n",
              "          google.colab.kernel.accessAllowed ? 'block' : 'none';\n",
              "\n",
              "        async function convertToInteractive(key) {\n",
              "          const element = document.querySelector('#df-d1a75c11-53be-497f-8118-1ef6e52c1b75');\n",
              "          const dataTable =\n",
              "            await google.colab.kernel.invokeFunction('convertToInteractive',\n",
              "                                                     [key], {});\n",
              "          if (!dataTable) return;\n",
              "\n",
              "          const docLinkHtml = 'Like what you see? Visit the ' +\n",
              "            '<a target=\"_blank\" href=https://colab.research.google.com/notebooks/data_table.ipynb>data table notebook</a>'\n",
              "            + ' to learn more about interactive tables.';\n",
              "          element.innerHTML = '';\n",
              "          dataTable['output_type'] = 'display_data';\n",
              "          await google.colab.output.renderOutput(dataTable, element);\n",
              "          const docLink = document.createElement('div');\n",
              "          docLink.innerHTML = docLinkHtml;\n",
              "          element.appendChild(docLink);\n",
              "        }\n",
              "      </script>\n",
              "    </div>\n",
              "  </div>\n",
              "  "
            ],
            "text/plain": [
              "   Anime_id  ...                                               Link\n",
              "0         1  ...       https://myanimelist.net/anime/1/Cowboy_Bebop\n",
              "1         5  ...  https://myanimelist.net/anime/5/Cowboy_Bebop__...\n",
              "2         6  ...             https://myanimelist.net/anime/6/Trigun\n",
              "3         7  ...  https://myanimelist.net/anime/7/Witch_Hunter_R...\n",
              "4         8  ...     https://myanimelist.net/anime/8/Bouken_Ou_Beet\n",
              "\n",
              "[5 rows x 15 columns]"
            ]
          },
          "metadata": {},
          "execution_count": 25
        }
      ]
    },
    {
      "cell_type": "code",
      "source": [
        "anime_tfidf = TfidfVectorizer(stop_words='english') # removing the stop words\n",
        "\n",
        "anime_description['Synopsis'] = anime_description['Synopsis'].fillna('') # filling the missing values\n",
        "anime_description_matrix = anime_tfidf.fit_transform(anime_description['Synopsis']) # computing TF-IDF matrix required for calculating cosine similarity\n",
        "anime_description_matrix.shape # shape of computed matrix"
      ],
      "metadata": {
        "colab": {
          "base_uri": "https://localhost:8080/"
        },
        "id": "9j2alGKZAgAr",
        "outputId": "432deb5a-c0d4-47ec-93f4-d25b321b897d"
      },
      "execution_count": 26,
      "outputs": [
        {
          "output_type": "execute_result",
          "data": {
            "text/plain": [
              "(17002, 45350)"
            ]
          },
          "metadata": {},
          "execution_count": 26
        }
      ]
    },
    {
      "cell_type": "code",
      "source": [
        "# computing cosine similarity matrix using linear_kernal of sklearn\n",
        "\n",
        "cosine_similarity = linear_kernel(anime_description_matrix, anime_description_matrix)"
      ],
      "metadata": {
        "id": "80gMckY1BD47"
      },
      "execution_count": 27,
      "outputs": []
    },
    {
      "cell_type": "code",
      "source": [
        "indices = pd.Series(anime_description['Title'].index)"
      ],
      "metadata": {
        "id": "HMk6uNACCL1u"
      },
      "execution_count": 28,
      "outputs": []
    },
    {
      "cell_type": "code",
      "source": [
        "# Function to get the most similar animes\n",
        "def recommend(index, cosine_sim=cosine_similarity):\n",
        "  id = indices[index]\n",
        "\n",
        "  # Get scores of all animes compared to that anime,\n",
        "  # sorting them and getting top 5\n",
        "  similarity_scores = list(enumerate(cosine_sim[id]))\n",
        "  similarity_scores = sorted(similarity_scores, key=lambda x: x[1], reverse=True)\n",
        "  similarity_scores = similarity_scores[1:6]\n",
        "\n",
        "  # Get the animes index\n",
        "  anime_index = [i[0] for i in similarity_scores]\n",
        "\n",
        "  # Return the top 5 most similar animes using integer-location based indexing\n",
        "  return anime_description['Title'].iloc[anime_index]"
      ],
      "metadata": {
        "id": "6oHuPs5uCcC9"
      },
      "execution_count": 29,
      "outputs": []
    },
    {
      "cell_type": "code",
      "source": [
        "# getting recommendation for anime at index 3\n",
        "recommend(3)"
      ],
      "metadata": {
        "colab": {
          "base_uri": "https://localhost:8080/"
        },
        "id": "_w1v6SUHEaZp",
        "outputId": "c1a0de89-0b56-4417-de93-41b73abdde81"
      },
      "execution_count": 30,
      "outputs": [
        {
          "output_type": "execute_result",
          "data": {
            "text/plain": [
              "16925              Motto! Ojamajo Doremi\n",
              "13624                   Luminous Witches\n",
              "11109    Zero kara Hajimeru Mahou no Sho\n",
              "324              Ojamajo Doremi Dokkaan!\n",
              "1549                  Strike Witches OVA\n",
              "Name: Title, dtype: object"
            ]
          },
          "metadata": {},
          "execution_count": 30
        }
      ]
    },
    {
      "cell_type": "code",
      "source": [
        "anime_description['Synopsis'].iloc[3]"
      ],
      "metadata": {
        "colab": {
          "base_uri": "https://localhost:8080/",
          "height": 87
        },
        "id": "w5ifCU1yDvxZ",
        "outputId": "43837cb1-32ae-4623-c74e-50c811ef9704"
      },
      "execution_count": 31,
      "outputs": [
        {
          "output_type": "execute_result",
          "data": {
            "application/vnd.google.colaboratory.intrinsic+json": {
              "type": "string"
            },
            "text/plain": [
              "\"Witches are individuals with special powers like ESP, telekinesis, mind control, etc. Robin, a 15-year-old craft user, arrives from Italy to Japan to work for an organization named STN Japan Division (STN-J) as a replacement for one of STN-J's witch hunters who was recently killed. Unlike other divisions of STN, STN-J tries to capture the witches alive in order to learn why and how they became witches in the first place. \\r\\n \\r\\n(Source: ANN)\""
            ]
          },
          "metadata": {},
          "execution_count": 31
        }
      ]
    },
    {
      "cell_type": "code",
      "source": [
        "anime_description['Synopsis'].iloc[16925]"
      ],
      "metadata": {
        "colab": {
          "base_uri": "https://localhost:8080/",
          "height": 70
        },
        "id": "61Q7jKkRD7Fh",
        "outputId": "19d55cf3-c826-458c-e0de-774761d31811"
      },
      "execution_count": 32,
      "outputs": [
        {
          "output_type": "execute_result",
          "data": {
            "application/vnd.google.colaboratory.intrinsic+json": {
              "type": "string"
            },
            "text/plain": [
              "'After the losing of magical ability to become witches, they once again become them. But, now they have to go through tests from the Witches of the Witch World. They also meet a new member, from New York, U.S. comes Momoko (the yellow Ojamajo).  \\r\\n \\r\\n(Source: ANN)'"
            ]
          },
          "metadata": {},
          "execution_count": 32
        }
      ]
    }
  ]
}